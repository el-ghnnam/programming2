{
 "cells": [
  {
   "cell_type": "markdown",
   "source": [
    "## Conditional Inheritance."
   ],
   "metadata": {
    "collapsed": false
   },
   "id": "d83fe570a5b2658e"
  },
  {
   "cell_type": "code",
   "execution_count": 6,
   "outputs": [
    {
     "ename": "TypeError",
     "evalue": "Male() takes no arguments",
     "output_type": "error",
     "traceback": [
      "\u001B[1;31m---------------------------------------------------------------------------\u001B[0m",
      "\u001B[1;31mTypeError\u001B[0m                                 Traceback (most recent call last)",
      "Cell \u001B[1;32mIn[6], line 16\u001B[0m\n\u001B[0;32m     12\u001B[0m     \u001B[38;5;28;01mdef\u001B[39;00m \u001B[38;5;21minfo\u001B[39m(\u001B[38;5;28mself\u001B[39m):\n\u001B[0;32m     13\u001B[0m         \u001B[38;5;28;01mreturn\u001B[39;00m \u001B[38;5;124mf\u001B[39m\u001B[38;5;124m'\u001B[39m\u001B[38;5;124mname is \u001B[39m\u001B[38;5;132;01m{\u001B[39;00m\u001B[38;5;28mself\u001B[39m\u001B[38;5;241m.\u001B[39mname\u001B[38;5;132;01m}\u001B[39;00m\u001B[38;5;124m'\u001B[39m\n\u001B[1;32m---> 16\u001B[0m person \u001B[38;5;241m=\u001B[39m \u001B[43mMale\u001B[49m\u001B[43m(\u001B[49m\u001B[38;5;124;43m'\u001B[39;49m\u001B[38;5;124;43mahmed\u001B[39;49m\u001B[38;5;124;43m'\u001B[39;49m\u001B[43m,\u001B[49m\u001B[43m \u001B[49m\u001B[38;5;241;43m19\u001B[39;49m\u001B[43m)\u001B[49m\n\u001B[0;32m     17\u001B[0m \u001B[38;5;28mprint\u001B[39m(person\u001B[38;5;241m.\u001B[39mname)\n\u001B[0;32m     18\u001B[0m \u001B[38;5;28mprint\u001B[39m(person\u001B[38;5;241m.\u001B[39mage)\n",
      "\u001B[1;31mTypeError\u001B[0m: Male() takes no arguments"
     ]
    }
   ],
   "source": [
    "class Human(object):\n",
    "    def __init__(self, name: str, age: int):\n",
    "        self.name = name\n",
    "        self.age = age\n",
    "    def info (self):\n",
    "        return f'my name is {self.name} and my age are{self.age}'\n",
    "    \n",
    "gender = 'Male'\n",
    "BaseClass = Human if gender == 'Female' else object\n",
    "# class Male(Human if gender == 'Male' else object):\n",
    "class Male(BaseClass):\n",
    "    def info(self):\n",
    "        return f'name is {self.name}'\n",
    "    \n",
    "    \n",
    "person = Male('ahmed', 19)\n",
    "print(person.name)\n",
    "print(person.age)\n"
   ],
   "metadata": {
    "collapsed": false,
    "ExecuteTime": {
     "end_time": "2023-11-29T19:00:16.846915200Z",
     "start_time": "2023-11-29T19:00:16.779288400Z"
    }
   },
   "id": "612b3be5431bd968"
  },
  {
   "cell_type": "code",
   "execution_count": null,
   "outputs": [],
   "source": [],
   "metadata": {
    "collapsed": false
   },
   "id": "7362da08bf65cd42"
  }
 ],
 "metadata": {
  "kernelspec": {
   "display_name": "Python 3",
   "language": "python",
   "name": "python3"
  },
  "language_info": {
   "codemirror_mode": {
    "name": "ipython",
    "version": 2
   },
   "file_extension": ".py",
   "mimetype": "text/x-python",
   "name": "python",
   "nbconvert_exporter": "python",
   "pygments_lexer": "ipython2",
   "version": "2.7.6"
  }
 },
 "nbformat": 4,
 "nbformat_minor": 5
}
