{
 "cells": [
  {
   "cell_type": "code",
   "execution_count": null,
   "metadata": {},
   "outputs": [],
   "source": [
    "#\n",
    "#? oop ex men P*nat*v"
   ]
  },
  {
   "cell_type": "code",
   "execution_count": null,
   "metadata": {},
   "outputs": [],
   "source": [
    "# Ex1 oop.\n",
    "# Create a Bus child class that inherits from the Vehicle class. The default fare charge of any vehicle is seating capacity * 100.\n",
    "# If Vehicle is Bus instance, we need to add an extra 10% on full fare as a maintenance charge.\n",
    "# So total fare for bus instance will become the final amount = total fare + 10% of the total fare."
   ]
  },
  {
   "cell_type": "code",
   "execution_count": null,
   "metadata": {},
   "outputs": [],
   "source": [
    "class Vehicle:\n",
    "    def __init__(self, name, mileage, capisity):\n",
    "        self.name = name\n",
    "        self.mileage = mileage\n",
    "        self.capisity = capisity\n",
    "        \n",
    "    def fare(self):\n",
    "        return self.capisity * 100\n",
    "    \n",
    "class Bus(Vehicle):\n",
    "    \n",
    "    def fare(self):\n",
    "        amount = super().fare()\n",
    "        amount += amount * 10/100\n",
    "        return amount\n",
    "    \n",
    "School_bus = Bus(\"School_Volvo\", 12, 50)\n",
    "print(School_bus.fare())"
   ]
  },
  {
   "cell_type": "code",
   "execution_count": null,
   "metadata": {},
   "outputs": [],
   "source": [
    "# Ex2 oop\n",
    "# Write a program to determine which class a given Bus object belongs to."
   ]
  },
  {
   "cell_type": "code",
   "execution_count": null,
   "metadata": {},
   "outputs": [],
   "source": [
    "class Vehicle:\n",
    "    def __init__(self, name, mileage, capacity):\n",
    "        self.name = name\n",
    "        self.mileage = mileage\n",
    "        self.capacity = capacity\n",
    "\n",
    "class Car(Vehicle):\n",
    "    pass\n",
    "\n",
    "class Bus(Vehicle):\n",
    "\n",
    "    def check_type_instance(self):\n",
    "        if isinstance(School_bus, Car):\n",
    "            return f'School_bus is instance from Bus class'\n",
    "        return f'School_bus isn\\'t instance from Bus class'\n",
    "    \n",
    "\n",
    "School_bus = Bus(\"School Volvo\", 12, 50)\n",
    "print(School_bus.check_type_instance())\n",
    "print(School_bus.capacity)\n",
    "\n",
    "\n",
    "\n"
   ]
  },
  {
   "cell_type": "code",
   "execution_count": null,
   "metadata": {},
   "outputs": [],
   "source": [
    "# Ex3 oop\n",
    "# Determine if School_bus is also an instance of the Vehicle class"
   ]
  },
  {
   "cell_type": "code",
   "execution_count": null,
   "metadata": {},
   "outputs": [],
   "source": [
    "class Vehicle:\n",
    "    def __init__(self, name, mileage, capacity):\n",
    "        self.name = name\n",
    "        self.mileage = mileage\n",
    "        self.capacity = capacity\n",
    "\n",
    "class Car(Vehicle):\n",
    "    pass\n",
    "\n",
    "class Bus(Vehicle):\n",
    "    def check_type_instance(self):\n",
    "        if isinstance(School_bus, Car) | isinstance(School_bus, Vehicle):\n",
    "            return f'School_bus is instance from Bus class or Vehicle class'\n",
    "        return f'School_bus isn\\'t instance from Bus class or Vehicle class'\n",
    "        \n",
    "\n",
    "School_bus = Bus(\"School Volvo\", 12, 50)\n",
    "print(School_bus.check_type_instance())"
   ]
  },
  {
   "cell_type": "code",
   "execution_count": null,
   "metadata": {},
   "outputs": [],
   "source": [
    "# Ex4 oop\n",
    "# when print # of instances you are created."
   ]
  },
  {
   "cell_type": "code",
   "execution_count": null,
   "metadata": {},
   "outputs": [],
   "source": [
    "class Vehicle:\n",
    "    def __init__(self, name, mileage, capacity):\n",
    "        self.name = name\n",
    "        self.mileage = mileage\n",
    "        self.capacity = capacity\n",
    "\n",
    "class Car(Vehicle):\n",
    "    pass\n",
    "\n",
    "class Bus(Vehicle):\n",
    "    number_of_instances = 0\n",
    "    def __init__(self, name, mileage, capisity):\n",
    "        super().__init__(name, mileage, capisity)\n",
    "        Bus.number_of_instances += 1\n",
    "\n",
    "    def check_type_instance(self):\n",
    "        if isinstance(School_bus, Car):\n",
    "            return f'School_bus is instance from Bus class'\n",
    "        return f'School_bus isn\\'t instance from Bus class'\n",
    "    \n",
    "\n",
    "School_bus = Bus(\"School Volvo\", 12, 50)\n",
    "School_bus = Bus(\"School Volvo\", 12, 50)\n",
    "School_bus = Bus(\"School Volvo\", 12, 50)\n",
    "School_bus = Bus(\"School Volvo\", 12, 50)\n",
    "print(School_bus.check_type_instance())\n",
    "print(School_bus.capacity)\n",
    "print(Bus.number_of_instances)"
   ]
  }
 ],
 "metadata": {
  "kernelspec": {
   "display_name": "Python 3",
   "language": "python",
   "name": "python3"
  },
  "language_info": {
   "codemirror_mode": {
    "name": "ipython",
    "version": 3
   },
   "file_extension": ".py",
   "mimetype": "text/x-python",
   "name": "python",
   "nbconvert_exporter": "python",
   "pygments_lexer": "ipython3",
   "version": "3.12.0"
  }
 },
 "nbformat": 4,
 "nbformat_minor": 2
}
