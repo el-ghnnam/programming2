{
 "cells": [
  {
   "cell_type": "markdown",
   "source": [
    "# Liskov Substitution Principle(LSP)"
   ],
   "metadata": {
    "collapsed": false
   },
   "id": "93a21bd0e89447de"
  },
  {
   "cell_type": "code",
   "execution_count": 9,
   "id": "initial_id",
   "metadata": {
    "collapsed": true,
    "ExecuteTime": {
     "end_time": "2023-12-15T05:33:02.371339700Z",
     "start_time": "2023-12-15T05:33:02.363566Z"
    }
   },
   "outputs": [],
   "source": [
    "# If S is a subtype of T, then objects of type T in a program may be replaced with objects of type S without altering any of the desirable properties of that program."
   ]
  },
  {
   "cell_type": "markdown",
   "source": [
    "## Without Liskov Substitution:\n"
   ],
   "metadata": {
    "collapsed": false
   },
   "id": "35b775da7fa39283"
  },
  {
   "cell_type": "code",
   "execution_count": 10,
   "outputs": [
    {
     "name": "stdout",
     "output_type": "stream",
     "text": [
      "Area: 20\n",
      "Area: 25\n"
     ]
    }
   ],
   "source": [
    "class Rectangle:\n",
    "    def __init__(self, width, height):\n",
    "        self.width = width\n",
    "        self.height = height\n",
    "\n",
    "    def set_width(self, width):\n",
    "        self.width = width\n",
    "\n",
    "    def set_height(self, height):\n",
    "        self.height = height\n",
    "\n",
    "    def area(self):\n",
    "        return self.width * self.height\n",
    "\n",
    "class Square(Rectangle):\n",
    "    def __init__(self, side_length):\n",
    "        # Call the parent constructor with the same side length for both width and height\n",
    "        super().__init__(side_length, side_length)\n",
    "\n",
    "    def set_width(self, width):\n",
    "        # Overriding set_width to maintain the square property\n",
    "        self.width = width\n",
    "        self.height = width\n",
    "\n",
    "    def set_height(self, height):\n",
    "        # Overriding set_height to maintain the square property\n",
    "        self.width = height\n",
    "        self.height = height\n",
    "\n",
    "# Client code\n",
    "def print_area(shape):\n",
    "    print(f\"Area: {shape.area()}\")\n",
    "\n",
    "# Usage\n",
    "rectangle = Rectangle(4, 5)\n",
    "print_area(rectangle)  # Output: Area: 20\n",
    "\n",
    "square = Square(4)\n",
    "square.set_width(5)  # Oops! Changes the width but violates the square property\n",
    "print_area(square)  # Output: Area: 25 (unexpected)     # should be 16\n"
   ],
   "metadata": {
    "collapsed": false,
    "ExecuteTime": {
     "end_time": "2023-12-15T05:33:03.692352200Z",
     "start_time": "2023-12-15T05:33:03.686510Z"
    }
   },
   "id": "8335461b4c408bb2"
  },
  {
   "cell_type": "markdown",
   "source": [
    "## With Liskov Substitution:(Solution1)"
   ],
   "metadata": {
    "collapsed": false
   },
   "id": "11027477bb34303c"
  },
  {
   "cell_type": "code",
   "execution_count": 11,
   "outputs": [
    {
     "name": "stdout",
     "output_type": "stream",
     "text": [
      "Area: 20\n",
      "Area: 25\n"
     ]
    }
   ],
   "source": [
    "class Shape:\n",
    "    def area(self):\n",
    "        pass\n",
    "\n",
    "class Rectangle(Shape):\n",
    "    def __init__(self, width, height):\n",
    "        self.width = width\n",
    "        self.height = height\n",
    "\n",
    "    def set_width(self, width):\n",
    "        self.width = width\n",
    "\n",
    "    def set_height(self, height):\n",
    "        self.height = height\n",
    "\n",
    "    def area(self):\n",
    "        return self.width * self.height\n",
    "\n",
    "class Square(Shape):\n",
    "    def __init__(self, side_length):\n",
    "        self.side_length = side_length\n",
    "\n",
    "    def set_side_length(self, side_length):\n",
    "        self.side_length = side_length\n",
    "\n",
    "    def area(self):\n",
    "        return self.side_length ** 2\n",
    "\n",
    "# Client code\n",
    "def print_area(shape):\n",
    "    print(f\"Area: {shape.area()}\")\n",
    "\n",
    "# Usage\n",
    "rectangle = Rectangle(4, 5)\n",
    "print_area(rectangle)  # Output: Area: 20\n",
    "\n",
    "square = Square(4)\n",
    "square.set_side_length(5)  # No violation of square property\n",
    "print_area(square)  # Output: Area: 25 (as expected)"
   ],
   "metadata": {
    "collapsed": false,
    "ExecuteTime": {
     "end_time": "2023-12-15T05:33:04.178898700Z",
     "start_time": "2023-12-15T05:33:04.168971600Z"
    }
   },
   "id": "7d78be33b010a7f5"
  },
  {
   "cell_type": "markdown",
   "source": [
    "## With Liskov Substitution:(Solution2)"
   ],
   "metadata": {
    "collapsed": false
   },
   "id": "b3f0a98bb15c415"
  },
  {
   "cell_type": "code",
   "execution_count": 1,
   "outputs": [
    {
     "name": "stdout",
     "output_type": "stream",
     "text": [
      "Area: 20\n",
      "Area: 25\n"
     ]
    }
   ],
   "source": [
    "class Shape:\n",
    "    def area(self):\n",
    "        pass\n",
    "\n",
    "class Rectangle(Shape):\n",
    "    def __init__(self, width, height):\n",
    "        self.width = width\n",
    "        self.height = height\n",
    "\n",
    "    def set_width(self, width):\n",
    "        self.width = width\n",
    "\n",
    "    def set_height(self, height):\n",
    "        self.height = height\n",
    "\n",
    "    def area(self):\n",
    "        return self.width * self.height\n",
    "\n",
    "class Square(Rectangle):\n",
    "    def __init__(self, side_length):\n",
    "        super().__init__(side_length, side_length)      # call Rectangel constructor and pass side_length to his two parameters.\n",
    "\n",
    "    def set_side_length(self, side_length):\n",
    "        self.side_length = side_length\n",
    "\n",
    "    def area(self):\n",
    "        return self.side_length ** 2\n",
    "\n",
    "# Client code\n",
    "def print_area(shape):\n",
    "    print(f\"Area: {shape.area()}\")\n",
    "\n",
    "# Usage\n",
    "rectangle = Rectangle(4, 5)\n",
    "print_area(rectangle)  # Output: Area: 20\n",
    "\n",
    "square = Square(4)\n",
    "square.set_side_length(5)  # No violation of square property\n",
    "print_area(square)  # Output: Area: 25 (as expected)"
   ],
   "metadata": {
    "collapsed": false,
    "ExecuteTime": {
     "end_time": "2023-12-16T05:31:15.620306400Z",
     "start_time": "2023-12-16T05:31:15.616526500Z"
    }
   },
   "id": "fc0f69a2cf4a74d7"
  }
 ],
 "metadata": {
  "kernelspec": {
   "display_name": "Python 3",
   "language": "python",
   "name": "python3"
  },
  "language_info": {
   "codemirror_mode": {
    "name": "ipython",
    "version": 2
   },
   "file_extension": ".py",
   "mimetype": "text/x-python",
   "name": "python",
   "nbconvert_exporter": "python",
   "pygments_lexer": "ipython2",
   "version": "2.7.6"
  }
 },
 "nbformat": 4,
 "nbformat_minor": 5
}
