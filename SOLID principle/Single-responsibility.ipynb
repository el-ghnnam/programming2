{
 "cells": [
  {
   "cell_type": "markdown",
   "source": [
    "# Single responsibility.\n",
    "### class should have one responsibility.\n",
    "### class should have one reason to change.\n",
    "### Benefits\n",
    "### Fewer test cases.\n",
    "### lower coupling.\n",
    "### easier to understand.\n",
    "### class become organized."
   ],
   "metadata": {
    "collapsed": false
   },
   "id": "e24d00bf775a14b"
  },
  {
   "cell_type": "markdown",
   "source": [
    "## class doesn't apply single responsibility."
   ],
   "metadata": {
    "collapsed": false
   },
   "id": "70ba0c554911adc8"
  },
  {
   "cell_type": "code",
   "execution_count": 1,
   "outputs": [],
   "source": [
    "class LoggerAndFileHandler:\n",
    "    def __init__(self, log_file_path):\n",
    "        self.log_file_path = log_file_path\n",
    "\n",
    "    def log_message(self, message):\n",
    "        with open(self.log_file_path, 'a') as log_file:\n",
    "            log_file.write(f\"{message}\\n\")\n",
    "\n",
    "    def perform_file_operation(self, operation):\n",
    "        # Simulating file operations for the sake of example\n",
    "        if operation == 'read':\n",
    "            with open(self.log_file_path, 'r') as log_file:\n",
    "                return log_file.read()\n",
    "        elif operation == 'clear':\n",
    "            open(self.log_file_path, 'w').close()"
   ],
   "metadata": {
    "collapsed": false,
    "ExecuteTime": {
     "end_time": "2023-12-12T18:07:22.705690700Z",
     "start_time": "2023-12-12T18:07:22.701245200Z"
    }
   },
   "id": "aceefe696ced3e6d"
  },
  {
   "cell_type": "markdown",
   "source": [
    "### Same class but he now applies single responsibility.\n"
   ],
   "metadata": {
    "collapsed": false
   },
   "id": "6c1d75527c0cec80"
  },
  {
   "cell_type": "code",
   "execution_count": null,
   "outputs": [],
   "source": [
    "class Logger:\n",
    "    def __init__(self, log_file_path):\n",
    "        self.log_file_path = log_file_path\n",
    "\n",
    "    def log_message(self, message):\n",
    "        with open(self.log_file_path, 'a') as log_file:\n",
    "            log_file.write(f\"{message}\\n\")\n",
    "\n",
    "\n",
    "class FileHandler:\n",
    "    def __init__(self, file_path):\n",
    "        self.file_path = file_path\n",
    "\n",
    "    def perform_operation(self, operation):\n",
    "        # Simulating file operations for the sake of example\n",
    "        if operation == 'read':\n",
    "            with open(self.file_path, 'r') as file:\n",
    "                return file.read()\n",
    "        elif operation == 'clear':\n",
    "            open(self.file_path, 'w').close()"
   ],
   "metadata": {
    "collapsed": false
   },
   "id": "12c48ed7d49cd491"
  },
  {
   "cell_type": "markdown",
   "source": [
    "### Class doesn't apply Single resoponsibility."
   ],
   "metadata": {
    "collapsed": false
   },
   "id": "ad7bbe03fc50fb55"
  },
  {
   "cell_type": "code",
   "execution_count": 9,
   "outputs": [
    {
     "name": "stdout",
     "output_type": "stream",
     "text": [
      "Name: Ahmed, Age: 19, Job: Enginner\n"
     ]
    }
   ],
   "source": [
    "class Person(object):\n",
    "    def __init__(self, name, age, job):\n",
    "        self.name = name\n",
    "        self.age = age\n",
    "        self.job = job\n",
    "\n",
    "    def personal_details(self):\n",
    "        print(f\"Name: {self.name}, Age: {self.age}, Job: {self.job}\")\n",
    "\n",
    "    def process_data(self):\n",
    "        print(\"Processing data...\")\n",
    "\n",
    "    def send_notification(self):\n",
    "        print(f\"Sennd notification to {self.name}\")\n",
    "\n",
    "person1 = Person(\"Ahmed\", 19, \"Enginner\")\n",
    "person1.personal_details()"
   ],
   "metadata": {
    "collapsed": false,
    "ExecuteTime": {
     "end_time": "2023-12-14T08:17:21.707947600Z",
     "start_time": "2023-12-14T08:17:21.701066200Z"
    }
   },
   "id": "263effcb52420226"
  },
  {
   "cell_type": "markdown",
   "source": [
    "### Fix"
   ],
   "metadata": {
    "collapsed": false
   },
   "id": "beb0957d8f38076f"
  },
  {
   "cell_type": "code",
   "execution_count": 13,
   "outputs": [
    {
     "name": "stdout",
     "output_type": "stream",
     "text": [
      "Sending notification to Ahmed\n"
     ]
    }
   ],
   "source": [
    "class Person(object):\n",
    "    def __init__(self, name, age, job):\n",
    "        self.name = name\n",
    "        self.age = age\n",
    "        self.job = job\n",
    "\n",
    "    def personal_details(self):\n",
    "        print(f\"Name: {self.name}, Age: {self.age}, Job: {Self.job}\")\n",
    "\n",
    "class ProcessingData():\n",
    "    @staticmethod\n",
    "    def process_data(self):\n",
    "        print(\"Processing data...\")\n",
    "\n",
    "class Notification():\n",
    "    @staticmethod\n",
    "    def notification_sender(person1):\n",
    "        print(f\"Sending notification to {person1.name}\")\n",
    "\n",
    "person1 = Person(\"Ahmed\", 19, \"Enginner\")\n",
    "data_processing = ProcessingData()\n",
    "notification_sender = Notification()\n",
    "notification_sender.notification_sender(person1)\n"
   ],
   "metadata": {
    "collapsed": false,
    "ExecuteTime": {
     "end_time": "2023-12-14T08:26:21.571506500Z",
     "start_time": "2023-12-14T08:26:21.568325200Z"
    }
   },
   "id": "63d4e101c86ccff1"
  },
  {
   "cell_type": "code",
   "execution_count": null,
   "outputs": [],
   "source": [],
   "metadata": {
    "collapsed": false
   },
   "id": "e6312cfac46497dc"
  }
 ],
 "metadata": {
  "kernelspec": {
   "display_name": "Python 3",
   "language": "python",
   "name": "python3"
  },
  "language_info": {
   "codemirror_mode": {
    "name": "ipython",
    "version": 2
   },
   "file_extension": ".py",
   "mimetype": "text/x-python",
   "name": "python",
   "nbconvert_exporter": "python",
   "pygments_lexer": "ipython2",
   "version": "2.7.6"
  }
 },
 "nbformat": 4,
 "nbformat_minor": 5
}
