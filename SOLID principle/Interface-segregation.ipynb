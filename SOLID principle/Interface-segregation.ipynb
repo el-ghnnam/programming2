{
 "cells": [
  {
   "cell_type": "markdown",
   "source": [
    "# Interface Segregation."
   ],
   "metadata": {
    "collapsed": false
   },
   "id": "a945154f3710da9b"
  },
  {
   "cell_type": "code",
   "execution_count": null,
   "id": "initial_id",
   "metadata": {
    "collapsed": true
   },
   "outputs": [],
   "source": [
    "# ISP --> interface segregation principle.\n",
    "# ISP Used to splits interfaces that are very large into smaller and more specific,\n",
    "# Ones so that clients will only have to know about the methods that are of interest to them."
   ]
  },
  {
   "cell_type": "markdown",
   "source": [
    "## Without Interface Segregation Principle (Violation)"
   ],
   "metadata": {
    "collapsed": false
   },
   "id": "ef7e1ce7d1bc8deb"
  },
  {
   "cell_type": "code",
   "execution_count": 2,
   "outputs": [],
   "source": [
    "# Without ISP (Violation)\n",
    "\n",
    "class Animal:\n",
    "    def eat(self):\n",
    "        pass\n",
    "\n",
    "    def sleep(self):\n",
    "        pass\n",
    "\n",
    "    def make_sound(self):\n",
    "        pass\n",
    "\n",
    "class Bird(Animal):\n",
    "    def fly(self):\n",
    "        pass\n",
    "\n",
    "class Dog(Animal):\n",
    "    def bark(self):\n",
    "        pass"
   ],
   "metadata": {
    "collapsed": false,
    "ExecuteTime": {
     "end_time": "2023-12-13T06:23:15.368328400Z",
     "start_time": "2023-12-13T06:23:15.337076600Z"
    }
   },
   "id": "9f4ce2489f0ee831"
  },
  {
   "cell_type": "markdown",
   "source": [
    "## With Interface Segregation Principle (Compliance)"
   ],
   "metadata": {
    "collapsed": false
   },
   "id": "607df8f8d7d31921"
  },
  {
   "cell_type": "code",
   "execution_count": 3,
   "outputs": [],
   "source": [
    "# With ISP (Compliance)\n",
    "\n",
    "class Eatable:\n",
    "    def eat(self):\n",
    "        pass\n",
    "\n",
    "class Sleepable:\n",
    "    def sleep(self):\n",
    "        pass\n",
    "\n",
    "class Soundable:\n",
    "    def make_sound(self):\n",
    "        pass\n",
    "\n",
    "class Flyable:\n",
    "    def fly(self):\n",
    "        pass\n",
    "\n",
    "class Animal(Eatable, Sleepable, Soundable):\n",
    "    pass\n",
    "\n",
    "class Bird(Animal, Flyable):\n",
    "    pass\n",
    "\n",
    "class Dog(Animal):\n",
    "    pass"
   ],
   "metadata": {
    "collapsed": false,
    "ExecuteTime": {
     "end_time": "2023-12-13T06:23:17.373015200Z",
     "start_time": "2023-12-13T06:23:17.363835800Z"
    }
   },
   "id": "fe9cf77b49d8eb0"
  },
  {
   "cell_type": "code",
   "execution_count": null,
   "outputs": [],
   "source": [],
   "metadata": {
    "collapsed": false
   },
   "id": "461706837e5f4104"
  }
 ],
 "metadata": {
  "kernelspec": {
   "display_name": "Python 3",
   "language": "python",
   "name": "python3"
  },
  "language_info": {
   "codemirror_mode": {
    "name": "ipython",
    "version": 2
   },
   "file_extension": ".py",
   "mimetype": "text/x-python",
   "name": "python",
   "nbconvert_exporter": "python",
   "pygments_lexer": "ipython2",
   "version": "2.7.6"
  }
 },
 "nbformat": 4,
 "nbformat_minor": 5
}
