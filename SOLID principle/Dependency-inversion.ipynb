{
 "cells": [
  {
   "cell_type": "markdown",
   "source": [
    "# Dependency Inversion"
   ],
   "metadata": {
    "collapsed": false
   },
   "id": "cdab911fe8177322"
  },
  {
   "cell_type": "markdown",
   "source": [
    "## High-level modules should not depend on low-level modules. Both should depend on the abstraction.\n",
    "## Abstractions should not depend on details. Details should depend on abstractions."
   ],
   "metadata": {
    "collapsed": false
   },
   "id": "1b2459ae2d3e0381"
  },
  {
   "cell_type": "markdown",
   "source": [
    "## Without Dependency Inversion Principle:"
   ],
   "metadata": {
    "collapsed": false
   },
   "id": "ed0cf5c27fc3ba04"
  },
  {
   "cell_type": "code",
   "execution_count": 1,
   "outputs": [
    {
     "name": "stdout",
     "output_type": "stream",
     "text": [
      "Bulb is turned on\n",
      "Bulb is turned off\n"
     ]
    }
   ],
   "source": [
    "# High-level module (Business Logic)\n",
    "class LightSwitch:\n",
    "    def __init__(self, bulb):\n",
    "        self.bulb = bulb\n",
    "\n",
    "    def turn_on(self):\n",
    "        self.bulb.turn_on()\n",
    "\n",
    "    def turn_off(self):\n",
    "        self.bulb.turn_off()\n",
    "\n",
    "# Low-level module (Implementation)\n",
    "class Bulb:\n",
    "    def turn_on(self):\n",
    "        print(\"Bulb is turned on\")\n",
    "\n",
    "    def turn_off(self):\n",
    "        print(\"Bulb is turned off\")\n",
    "\n",
    "# Client code\n",
    "bulb = Bulb()\n",
    "switch = LightSwitch(bulb)\n",
    "switch.turn_on()\n",
    "switch.turn_off()\n"
   ],
   "metadata": {
    "collapsed": false,
    "ExecuteTime": {
     "end_time": "2023-12-13T06:24:46.870125800Z",
     "start_time": "2023-12-13T06:24:46.844898900Z"
    }
   },
   "id": "dc3c88de02baa9a"
  },
  {
   "cell_type": "markdown",
   "source": [
    "## With Dependency Inversion Principle:"
   ],
   "metadata": {
    "collapsed": false
   },
   "id": "90c6187f1d429d1a"
  },
  {
   "cell_type": "code",
   "execution_count": 2,
   "outputs": [
    {
     "name": "stdout",
     "output_type": "stream",
     "text": [
      "Bulb is turned on\n",
      "Bulb is turned off\n",
      "Fan is turned on\n",
      "Fan is turned off\n"
     ]
    }
   ],
   "source": [
    "# Abstraction (Interface)\n",
    "class Switchable:\n",
    "    def turn_on(self):\n",
    "        pass\n",
    "\n",
    "    def turn_off(self):\n",
    "        pass\n",
    "\n",
    "# High-level module (Business Logic)\n",
    "class LightSwitch:\n",
    "    def __init__(self, device: Switchable):\n",
    "        self.device = device\n",
    "\n",
    "    def turn_on(self):\n",
    "        self.device.turn_on()\n",
    "\n",
    "    def turn_off(self):\n",
    "        self.device.turn_off()\n",
    "\n",
    "# Low-level modules (Implementations)\n",
    "class Bulb(Switchable):\n",
    "    def turn_on(self):\n",
    "        print(\"Bulb is turned on\")\n",
    "\n",
    "    def turn_off(self):\n",
    "        print(\"Bulb is turned off\")\n",
    "\n",
    "class Fan(Switchable):\n",
    "    def turn_on(self):\n",
    "        print(\"Fan is turned on\")\n",
    "\n",
    "    def turn_off(self):\n",
    "        print(\"Fan is turned off\")\n",
    "\n",
    "# Client code\n",
    "bulb = Bulb()\n",
    "fan = Fan()\n",
    "\n",
    "switch1 = LightSwitch(bulb)\n",
    "switch2 = LightSwitch(fan)\n",
    "\n",
    "switch1.turn_on()\n",
    "switch1.turn_off()\n",
    "\n",
    "switch2.turn_on()\n",
    "switch2.turn_off()"
   ],
   "metadata": {
    "collapsed": false,
    "ExecuteTime": {
     "end_time": "2023-12-13T06:25:23.413977700Z",
     "start_time": "2023-12-13T06:25:23.405339Z"
    }
   },
   "id": "a51dd6cfe4e66dd3"
  },
  {
   "cell_type": "code",
   "execution_count": null,
   "outputs": [],
   "source": [],
   "metadata": {
    "collapsed": false
   },
   "id": "1977d436e1f69df"
  }
 ],
 "metadata": {
  "kernelspec": {
   "display_name": "Python 3",
   "language": "python",
   "name": "python3"
  },
  "language_info": {
   "codemirror_mode": {
    "name": "ipython",
    "version": 2
   },
   "file_extension": ".py",
   "mimetype": "text/x-python",
   "name": "python",
   "nbconvert_exporter": "python",
   "pygments_lexer": "ipython2",
   "version": "2.7.6"
  }
 },
 "nbformat": 4,
 "nbformat_minor": 5
}
