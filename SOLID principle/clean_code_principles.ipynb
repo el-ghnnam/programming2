{
 "cells": [
  {
   "cell_type": "markdown",
   "source": [
    "# Clean principles"
   ],
   "metadata": {
    "collapsed": false
   },
   "id": "d5ef92cd6617d780"
  },
  {
   "cell_type": "markdown",
   "source": [
    "## KIS: \"Keep It Simple\""
   ],
   "metadata": {
    "collapsed": false
   },
   "id": "1a35badb3494a36e"
  },
  {
   "cell_type": "code",
   "execution_count": 4,
   "id": "initial_id",
   "metadata": {
    "collapsed": true,
    "ExecuteTime": {
     "end_time": "2023-12-21T18:06:41.034794500Z",
     "start_time": "2023-12-21T18:06:41.032221400Z"
    }
   },
   "outputs": [
    {
     "name": "stdout",
     "output_type": "stream",
     "text": [
      "Sum: 55\n"
     ]
    }
   ],
   "source": [
    "# Violating KIS the sum calculation\n",
    "\n",
    "def calculate_sum(numbers):\n",
    "    total = 0\n",
    "    for i in range(len(numbers)):\n",
    "        total += numbers[i] * (i + 1)  # Introducing unnecessary complexity\n",
    "    return total\n",
    "\n",
    "# Example usage\n",
    "my_numbers = [1, 2, 3, 4, 5]\n",
    "result = calculate_sum(my_numbers)\n",
    "print(\"Sum:\", result)\n"
   ]
  },
  {
   "cell_type": "code",
   "execution_count": null,
   "outputs": [],
   "source": [
    "# Applying KIS Principle to Calculate Average\n",
    "\n",
    "def calculate_average(numbers):\n",
    "    if not numbers:\n",
    "        return None\n",
    "    return sum(numbers) / len(numbers)\n",
    "\n",
    "my_numbers = [1, 2, 3, 4, 5]\n",
    "average_result = calculate_average(my_numbers)\n",
    "\n",
    "if average_result is not None:\n",
    "    print(\"Average:\", average_result)\n",
    "else:\n",
    "    print(\"Cannot calculate average for an empty list.\")\n"
   ],
   "metadata": {
    "collapsed": false
   },
   "id": "8485c6dbea2b373b"
  },
  {
   "cell_type": "markdown",
   "source": [
    "## EAFP: \"Easier to Ask for Forgiveness than Permission.\"\n",
    "## LBYL: \"Look Before You Leap.\""
   ],
   "metadata": {
    "collapsed": false
   },
   "id": "887a4493f08d294c"
  },
  {
   "cell_type": "code",
   "execution_count": null,
   "outputs": [],
   "source": [
    "# EAFP Example\n",
    "def read_file(filename):\n",
    "    try:\n",
    "        with open(filename, 'r') as file:\n",
    "            content = file.read()\n",
    "        return content\n",
    "    except FileNotFoundError:\n",
    "        print(f\"The file '{filename}' does not exist.\")\n",
    "        return None\n",
    "\n",
    "file_content = read_file(\"example.txt\")\n",
    "if file_content is not None:\n",
    "    print(\"File content:\", file_content)\n",
    "else:\n",
    "    print(\"File not read.\")\n"
   ],
   "metadata": {
    "collapsed": false
   },
   "id": "e5157bf62d84ea26"
  },
  {
   "cell_type": "code",
   "execution_count": null,
   "outputs": [],
   "source": [
    "# LBYL Example\n",
    "\n",
    "def read_file(filename):\n",
    "    import os\n",
    "    if os.path.isfile(filename):\n",
    "        with open(filename, 'r') as file:\n",
    "            content = file.read()\n",
    "        return content\n",
    "    else:\n",
    "        print(f\"The file '{filename}' does not exist.\")\n",
    "        return None\n",
    "\n",
    "# Example usage\n",
    "file_content = read_file(\"example.txt\")\n",
    "if file_content is not None:\n",
    "    print(\"File content:\", file_content)\n",
    "else:\n",
    "    print(\"File not read.\")\n"
   ],
   "metadata": {
    "collapsed": false
   },
   "id": "dc3cfe0c50597b65"
  },
  {
   "cell_type": "markdown",
   "source": [
    "## YAGNI: \"You Ain't Gonna Need It\""
   ],
   "metadata": {
    "collapsed": false
   },
   "id": "f6e17d1f041d72c1"
  },
  {
   "cell_type": "code",
   "execution_count": 5,
   "outputs": [],
   "source": [
    "# Example without YAGNI\n",
    "\n",
    "class ShoppingCart:\n",
    "    def __init__(self):\n",
    "        self.items = []\n",
    "\n",
    "    def add_item(self, item):\n",
    "        # Unnecessary feature: Keeping track of the total price\n",
    "        self.total_price += item.price\n",
    "        self.items.append(item)\n",
    "\n",
    "    def checkout(self):\n",
    "        # Unnecessary feature: Sending a confirmation email\n",
    "        self.send_confirmation_email()\n",
    "        # Perform checkout logic\n",
    "\n",
    "    def send_confirmation_email(self):\n",
    "        # Code for sending a confirmation email\n",
    "        pass\n",
    "\n",
    "# Example with YAGNI\n",
    "\n",
    "class ShoppingCartYAGNI:\n",
    "    def __init__(self):\n",
    "        self.items = []\n",
    "\n",
    "    def add_item(self, item):\n",
    "        # Only track the items, no need for total_price or email\n",
    "        self.items.append(item)\n",
    "\n",
    "    def checkout(self):\n",
    "        # Perform checkout logic without unnecessary features\n",
    "        pass"
   ],
   "metadata": {
    "collapsed": false,
    "ExecuteTime": {
     "end_time": "2023-12-21T18:11:37.507024Z",
     "start_time": "2023-12-21T18:11:37.504371Z"
    }
   },
   "id": "f8840ef0b2283dd2"
  },
  {
   "cell_type": "markdown",
   "source": [
    "## DRY: \"Don't Repeat Yourself\""
   ],
   "metadata": {
    "collapsed": false
   },
   "id": "cbc65eaf82171e57"
  },
  {
   "cell_type": "code",
   "execution_count": 7,
   "outputs": [],
   "source": [
    "# Example violating DRY\n",
    "\n",
    "def calculate_area_of_rectangle(length, width):\n",
    "    area = length * width\n",
    "    return area\n",
    "\n",
    "def calculate_volume_of_rectangle(length, width, height):\n",
    "    # Repeating the calculation of area\n",
    "    area = length * width\n",
    "    volume = area * height\n",
    "    return volume"
   ],
   "metadata": {
    "collapsed": false,
    "ExecuteTime": {
     "end_time": "2023-12-21T18:13:32.082844100Z",
     "start_time": "2023-12-21T18:13:32.076661700Z"
    }
   },
   "id": "c6359ce65dd99c3d"
  },
  {
   "cell_type": "code",
   "execution_count": 8,
   "outputs": [],
   "source": [
    "# Applying DRY\n",
    "\n",
    "def calculate_area(length, width):\n",
    "    return length * width\n",
    "\n",
    "def calculate_area_of_rectangle(length, width):\n",
    "    return calculate_area(length, width)\n",
    "\n",
    "def calculate_volume_of_rectangle(length, width, height):\n",
    "    area = calculate_area(length, width)\n",
    "    volume = area * height\n",
    "    return volume"
   ],
   "metadata": {
    "collapsed": false,
    "ExecuteTime": {
     "end_time": "2023-12-21T18:13:37.111127100Z",
     "start_time": "2023-12-21T18:13:37.105502600Z"
    }
   },
   "id": "adde5c8f0b2cbe79"
  },
  {
   "cell_type": "markdown",
   "source": [
    "## OAOO: \"Once and Only Once\""
   ],
   "metadata": {
    "collapsed": false
   },
   "id": "3f572cfe1f837864"
  },
  {
   "cell_type": "code",
   "execution_count": null,
   "outputs": [],
   "source": [
    "# Example violating OAOO\n",
    "\n",
    "def process_data(data):\n",
    "    # Duplicate data processing logic\n",
    "    processed_data = data * 2\n",
    "    print(f\"Processed Data: {processed_data}\")\n",
    "    return processed_data\n",
    "\n",
    "def main():\n",
    "    data1 = [1, 2, 3]\n",
    "    data2 = (4, 5, 6)\n",
    "\n",
    "    # Duplicate data processing logic\n",
    "    processed_data1 = data1 * 2\n",
    "    print(f\"Processed Data 1: {processed_data1}\")\n",
    "\n",
    "    processed_data2 = data2 * 2\n",
    "    print(f\"Processed Data 2: {processed_data2}\")\n",
    "\n",
    "if __name__ == \"__main__\":\n",
    "    main()"
   ],
   "metadata": {
    "collapsed": false
   },
   "id": "8c6735d3bfab7b03"
  },
  {
   "cell_type": "code",
   "execution_count": null,
   "outputs": [],
   "source": [
    "# Applying OAOO\n",
    "\n",
    "def process_data(data):\n",
    "    processed_data = data * 2\n",
    "    print(f\"Processed Data: {processed_data}\")\n",
    "    return processed_data\n",
    "\n",
    "def main():\n",
    "    data1 = [1, 2, 3]\n",
    "    data2 = (4, 5, 6)\n",
    "\n",
    "    processed_data1 = process_data(data1)\n",
    "    processed_data2 = process_data(data2)\n",
    "\n",
    "if __name__ == \"__main__\":\n",
    "    main()"
   ],
   "metadata": {
    "collapsed": false
   },
   "id": "cb80e11ca4d10c54"
  }
 ],
 "metadata": {
  "kernelspec": {
   "display_name": "Python 3",
   "language": "python",
   "name": "python3"
  },
  "language_info": {
   "codemirror_mode": {
    "name": "ipython",
    "version": 2
   },
   "file_extension": ".py",
   "mimetype": "text/x-python",
   "name": "python",
   "nbconvert_exporter": "python",
   "pygments_lexer": "ipython2",
   "version": "2.7.6"
  }
 },
 "nbformat": 4,
 "nbformat_minor": 5
}
