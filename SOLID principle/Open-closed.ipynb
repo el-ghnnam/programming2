{
 "cells": [
  {
   "cell_type": "markdown",
   "source": [
    "## Open-closed :- to apply this principle we well use abstract class and polymorphism.\n",
    "##  mean software entities (classes, functions, modules, etc) should be\n",
    "##     open for extension(can add new behavior) and closed for modification."
   ],
   "metadata": {
    "collapsed": false
   },
   "id": "1c56b93513d83af3"
  },
  {
   "cell_type": "markdown",
   "source": [
    "### Without principle"
   ],
   "metadata": {
    "collapsed": false
   },
   "id": "78aa9b858b27dded"
  },
  {
   "cell_type": "code",
   "execution_count": 5,
   "outputs": [
    {
     "name": "stdout",
     "output_type": "stream",
     "text": [
      "78.5\n"
     ]
    }
   ],
   "source": [
    "class AreaCalculator:\n",
    "    def calculate_area(self, shape):\n",
    "        if isinstance(shape, Circle):\n",
    "            return shape.calculate_area()\n",
    "        elif isinstance(shape, Rectangle):\n",
    "            return shape.calculate_area()\n",
    "        else:\n",
    "            pass\n",
    "\n",
    "\n",
    "class Circle:\n",
    "    def __init__(self, radius):\n",
    "        self.radius = radius\n",
    "    def calculate_area(self):\n",
    "        return (self.radius ** 2) * 3.14\n",
    "\n",
    "\n",
    "class Rectangle:\n",
    "    def __init__(self, length, width):\n",
    "        self.length = length\n",
    "        self.width = width\n",
    "    def calculate_area(self):\n",
    "        return self.length * self.width\n",
    "\n",
    "\n",
    "# Example usage\n",
    "circle = Circle(radius=5)\n",
    "rectangle = Rectangle(length=4, width=6)\n",
    "\n",
    "calculator = AreaCalculator()\n",
    "print(calculator.calculate_area(circle))"
   ],
   "metadata": {
    "collapsed": false,
    "ExecuteTime": {
     "end_time": "2023-12-14T08:37:50.160393800Z",
     "start_time": "2023-12-14T08:37:50.155175800Z"
    }
   },
   "id": "812a3427261a7ff9"
  },
  {
   "cell_type": "markdown",
   "source": [
    "### With Open-Closed Principle\n"
   ],
   "metadata": {
    "collapsed": false
   },
   "id": "3fa6fbbfd5c15e6d"
  },
  {
   "cell_type": "code",
   "execution_count": 17,
   "outputs": [
    {
     "name": "stdout",
     "output_type": "stream",
     "text": [
      "78.5\n",
      "24\n"
     ]
    }
   ],
   "source": [
    "from abc import ABC, abstractmethod\n",
    "\n",
    "\n",
    "class Shape(ABC):\n",
    "    @abstractmethod\n",
    "    def calculate_area(self):\n",
    "        pass\n",
    "\n",
    "\n",
    "class Circle(Shape):\n",
    "    def __init__(self, radius):\n",
    "        self.radius = radius\n",
    "\n",
    "    def calculate_area(self):\n",
    "        return self.radius ** 2 * 3.14\n",
    "\n",
    "\n",
    "class Rectangle(Shape):\n",
    "    def __init__(self, length, width):\n",
    "        self.length = length\n",
    "        self.width = width\n",
    "\n",
    "    def calculate_area(self):\n",
    "        return self.length * self.width\n",
    "\n",
    "\n",
    "class AreaCalulator:\n",
    "    def calculate_area(self, shape):\n",
    "        return shape.calculate_area()\n",
    "\n",
    "\n",
    "circle = Circle(radius=5)\n",
    "rectangle = Rectangle(length=4, width=6)\n",
    "\n",
    "\n",
    "if __name__ == '__main__':\n",
    "    calculator = AreaCalulator()\n",
    "    print(calculator.calculate_area(circle))\n",
    "    print(calculator.calculate_area(rectangle))"
   ],
   "metadata": {
    "collapsed": false,
    "ExecuteTime": {
     "end_time": "2023-12-12T18:04:38.022625300Z",
     "start_time": "2023-12-12T18:04:38.018474100Z"
    }
   },
   "id": "5be5ddd351ba61df"
  }
 ],
 "metadata": {
  "kernelspec": {
   "display_name": "Python 3",
   "language": "python",
   "name": "python3"
  },
  "language_info": {
   "codemirror_mode": {
    "name": "ipython",
    "version": 2
   },
   "file_extension": ".py",
   "mimetype": "text/x-python",
   "name": "python",
   "nbconvert_exporter": "python",
   "pygments_lexer": "ipython2",
   "version": "2.7.6"
  }
 },
 "nbformat": 4,
 "nbformat_minor": 5
}
