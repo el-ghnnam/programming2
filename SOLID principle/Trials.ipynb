{
 "cells": [
  {
   "cell_type": "code",
   "execution_count": 2,
   "outputs": [],
   "source": [
    "from Programming2.OOP import Calculator\n",
    "\n",
    "\n",
    "# class doesn't apply single responsibility.\n",
    "class Person:\n",
    "    def __init__(self, name, age):\n",
    "        self.name, self.age = name, age\n",
    "    def personal_details(self):\n",
    "        print(f\"Name: {self.name}, Age: {self.age}\")\n",
    "    def processing_data(self):\n",
    "        print(\"Processing data...\")\n",
    "    def send_notification(self):\n",
    "        print(f\"send notification to {self.name}\")"
   ],
   "metadata": {
    "collapsed": false,
    "ExecuteTime": {
     "end_time": "2023-12-15T04:36:50.836003800Z",
     "start_time": "2023-12-15T04:36:50.830385100Z"
    }
   },
   "id": "cb31f708ce8fba81"
  },
  {
   "cell_type": "code",
   "execution_count": 4,
   "outputs": [
    {
     "name": "stdout",
     "output_type": "stream",
     "text": [
      "Sen notification to Maram\n"
     ]
    }
   ],
   "source": [
    "# class apply single responsibility.\n",
    "\n",
    "class Person:\n",
    "    def __init__(self, name, age):\n",
    "        self.name, self.age = name, age\n",
    "    def personal_details(self):\n",
    "        print(f\"Name: {self.name}, Age: {self.age}\")\n",
    "\n",
    "class ProcessData:\n",
    "    def data_processing(self):\n",
    "        print(\"Processing data...\")\n",
    "\n",
    "class Notification:\n",
    "    def send_notification(self, person):\n",
    "        print(f\"Send notification to {person.name}\")\n",
    "person1 = Person(\"Maram\", 12)\n",
    "process = ProcessData()\n",
    "notification = Notification()\n",
    "\n",
    "notification.send_notification(person1)"
   ],
   "metadata": {
    "collapsed": false,
    "ExecuteTime": {
     "end_time": "2023-12-15T04:46:11.497168400Z",
     "start_time": "2023-12-15T04:46:11.494603Z"
    }
   },
   "id": "93d508284c80b304"
  },
  {
   "cell_type": "code",
   "execution_count": 10,
   "outputs": [
    {
     "name": "stdout",
     "output_type": "stream",
     "text": [
      "Area of circle is: 78.5\n",
      "Area of rectangle is: 42\n"
     ]
    }
   ],
   "source": [
    "class Calculate_Area:\n",
    "    def calculate_area(self, shape):\n",
    "        return shape.calculate_area()\n",
    "\n",
    "from abc import ABC, abstractmethod\n",
    "class Shape(ABC):\n",
    "    @abstractmethod\n",
    "    def calculate_area(self):\n",
    "        pass\n",
    "\n",
    "class Circle(Shape):\n",
    "    def __init__(self, radius):\n",
    "        self.radius = radius\n",
    "    def calculate_area(self):\n",
    "        return f'Area of circle is: {3.14 * (self.radius ** 2)}'\n",
    "\n",
    "class Rectangle(Shape):\n",
    "    def __init__(self, width, height):\n",
    "        self.width, self.height = width, height\n",
    "    def calculate_area(self):\n",
    "        return f'Area of rectangle is: {self.width * self.height}'\n",
    "    \n",
    "\n",
    "if __name__ == '__main__':\n",
    "    calculator = Calculate_Area()\n",
    "    circle = Circle(5)\n",
    "    rectangel = Rectangle(7, 6)\n",
    "    print(calculator.calculate_area(circle))\n",
    "    print(calculator.calculate_area(rectangel))\n"
   ],
   "metadata": {
    "collapsed": false,
    "ExecuteTime": {
     "end_time": "2023-12-15T04:59:50.595036600Z",
     "start_time": "2023-12-15T04:59:50.584640800Z"
    }
   },
   "id": "c44893e73b2bcef9"
  },
  {
   "cell_type": "markdown",
   "source": [
    "### Single responsibility"
   ],
   "metadata": {
    "collapsed": false
   },
   "id": "c4a4a0755b40fc12"
  },
  {
   "cell_type": "code",
   "execution_count": 2,
   "outputs": [
    {
     "name": "stdout",
     "output_type": "stream",
     "text": [
      "Notification send to Maram\n"
     ]
    }
   ],
   "source": [
    "class Engineer:\n",
    "    def __init__(self, name):\n",
    "        self.name = name\n",
    "    def personal_details(self):\n",
    "        print(\"Name: {}\".format(self.name))\n",
    "class Processing:\n",
    "    def processing_data(self):\n",
    "        print(\"Processing data...\")\n",
    "class Notification:\n",
    "    def send_notification(self, person):\n",
    "        print(f\"Notification send to {person.name}\")\n",
    "Eng1 = Engineer(\"Maram\")\n",
    "processing_data = Processing()\n",
    "notification = Notification()\n",
    "notification.send_notification(Eng1)"
   ],
   "metadata": {
    "collapsed": false,
    "ExecuteTime": {
     "end_time": "2023-12-16T05:14:28.444079300Z",
     "start_time": "2023-12-16T05:14:28.439918400Z"
    }
   },
   "id": "aa195fa4e1ccd2c1"
  },
  {
   "cell_type": "markdown",
   "source": [
    "### Open-closed"
   ],
   "metadata": {
    "collapsed": false
   },
   "id": "baccf767dfc8387e"
  },
  {
   "cell_type": "code",
   "execution_count": 4,
   "outputs": [
    {
     "name": "stdout",
     "output_type": "stream",
     "text": [
      "Area of circle is: 78.5\n",
      "Area of triangle is 10.0\n"
     ]
    }
   ],
   "source": [
    "from abc import ABC, abstractmethod\n",
    "class Calculate_Area:\n",
    "    def calculate_arae(self, shape):\n",
    "        return shape.calculate_area()\n",
    "\n",
    "class Shape(ABC):\n",
    "    @abstractmethod\n",
    "    def calculate_area(self):\n",
    "        pass\n",
    "\n",
    "class Circle(Shape):\n",
    "    def __init__(self, radius):\n",
    "        self.radius = radius\n",
    "    def calculate_area(self):\n",
    "        return f'Area of circle is: {3.14 * (self.radius ** 2)}'\n",
    "\n",
    "class Rectangle(Shape):\n",
    "    def __init__(self, width, height):\n",
    "        self.width, self.height = width, height\n",
    "    def calculate_area(self):\n",
    "        return f'Area of rectangle is {self.width * self.heigth}'\n",
    "\n",
    "class Triangle(Shape):\n",
    "    def __init__(self, base, height):\n",
    "        self.base = base\n",
    "        self.height = height\n",
    "    def calculate_area(self):\n",
    "        return f'Area of triangle is {(.5 * self.base) * self.height}'\n",
    "\n",
    "if __name__ == '__main__':\n",
    "    calculate = Calculate_Area()\n",
    "    circle = Circle(5)\n",
    "    rectangel = Rectangle(7, 5)\n",
    "    triangle = Triangle(4, 5)\n",
    "    print(calculate.calculate_arae(circle))\n",
    "    print(calculate.calculate_arae(triangle))"
   ],
   "metadata": {
    "collapsed": false,
    "ExecuteTime": {
     "end_time": "2023-12-16T05:27:44.504855700Z",
     "start_time": "2023-12-16T05:27:44.492669700Z"
    }
   },
   "id": "b56b750c1b8e868"
  },
  {
   "cell_type": "markdown",
   "source": [
    "### Interface Segregation"
   ],
   "metadata": {
    "collapsed": false
   },
   "id": "92db105255f57bfc"
  },
  {
   "cell_type": "code",
   "execution_count": null,
   "outputs": [],
   "source": [
    "class Eatable:\n",
    "    def eat(self):\n",
    "        pass\n",
    "\n",
    "class Sleepable:\n",
    "    def sleep(self):\n",
    "        pass\n",
    "\n",
    "class Soundable:\n",
    "    def make_sound(self):\n",
    "        pass\n",
    "\n",
    "class Flyable:\n",
    "    def fly(self):\n",
    "        pass\n",
    "\n",
    "class Animal(Eatable, Sleepable, Soundable):\n",
    "    pass\n",
    "\n",
    "class Bird(Animal, Flyable):\n",
    "    pass\n",
    "\n",
    "class Dog(Animal):\n",
    "    pass"
   ],
   "metadata": {
    "collapsed": false
   },
   "id": "44d62e9493efdb17"
  },
  {
   "cell_type": "markdown",
   "source": [
    "### Dependency inversion"
   ],
   "metadata": {
    "collapsed": false
   },
   "id": "c02669dc47ed7348"
  },
  {
   "cell_type": "code",
   "execution_count": 12,
   "outputs": [
    {
     "name": "stdout",
     "output_type": "stream",
     "text": [
      "blub is trun on\n",
      "fan is trun off\n"
     ]
    }
   ],
   "source": [
    "class Switchable:\n",
    "    def turn_on(self):\n",
    "        pass\n",
    "    def turn_off(self):\n",
    "        pass\n",
    "\n",
    "class LigthSwitch:\n",
    "    def __init__(self, device: Switchable):\n",
    "        self.device = device\n",
    "    def trun_on(self):\n",
    "        self.device.turn_on()\n",
    "    def trun_off(self):\n",
    "        self.device.turn_off()\n",
    "class Blub(Switchable):\n",
    "    def turn_on(self):\n",
    "        print(\"blub is trun on\")\n",
    "    def turn_off(self):\n",
    "        print(\"blub is trun off\")\n",
    "\n",
    "class Fan(Switchable):\n",
    "    def turn_on(self):\n",
    "        print(\"fan is trun on\")\n",
    "    def turn_off(self):\n",
    "        print(\"fan is trun off\")\n",
    "\n",
    "fan = Fan()\n",
    "blub = Blub()\n",
    "\n",
    "switch1 = LigthSwitch(blub)\n",
    "switch2 = LigthSwitch(fan)\n",
    "\n",
    "switch1.trun_on()\n",
    "switch2.trun_off()"
   ],
   "metadata": {
    "collapsed": false,
    "ExecuteTime": {
     "end_time": "2023-12-16T06:06:14.955350200Z",
     "start_time": "2023-12-16T06:06:14.952782100Z"
    }
   },
   "id": "e905ec7b53aa3330"
  },
  {
   "cell_type": "code",
   "execution_count": null,
   "outputs": [],
   "source": [],
   "metadata": {
    "collapsed": false
   },
   "id": "c0bc66d6bedf52fd"
  }
 ],
 "metadata": {
  "kernelspec": {
   "display_name": "Python 3",
   "language": "python",
   "name": "python3"
  },
  "language_info": {
   "codemirror_mode": {
    "name": "ipython",
    "version": 2
   },
   "file_extension": ".py",
   "mimetype": "text/x-python",
   "name": "python",
   "nbconvert_exporter": "python",
   "pygments_lexer": "ipython2",
   "version": "2.7.6"
  }
 },
 "nbformat": 4,
 "nbformat_minor": 5
}
